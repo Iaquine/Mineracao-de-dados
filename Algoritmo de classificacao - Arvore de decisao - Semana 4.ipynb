{
 "cells": [
  {
   "cell_type": "markdown",
   "id": "d89a1749-b656-4114-91c0-aa183049ba95",
   "metadata": {},
   "source": [
    "Para esse exercício de classificação usaremos o dataset Shows disponível em: \n",
    "https://www.kaggle.com/code/mruanova/decision-tree-for-comedy-shows-w3schools/data"
   ]
  },
  {
   "cell_type": "code",
   "execution_count": 34,
   "id": "3d5d3a56-7f10-44ec-a095-25d9476cd1f3",
   "metadata": {},
   "outputs": [],
   "source": [
    "import pandas as pd \n",
    "import matplotlib.pyplot as plt\n",
    "from sklearn import tree\n",
    "from sklearn.tree import DecisionTreeClassifier, plot_tree\n",
    "from sklearn.model_selection import train_test_split\n",
    "from sklearn.metrics import accuracy_score"
   ]
  },
  {
   "cell_type": "code",
   "execution_count": 35,
   "id": "63ddb927-f4f4-428f-9266-ee7634011bc0",
   "metadata": {},
   "outputs": [
    {
     "data": {
      "text/html": [
       "<div>\n",
       "<style scoped>\n",
       "    .dataframe tbody tr th:only-of-type {\n",
       "        vertical-align: middle;\n",
       "    }\n",
       "\n",
       "    .dataframe tbody tr th {\n",
       "        vertical-align: top;\n",
       "    }\n",
       "\n",
       "    .dataframe thead th {\n",
       "        text-align: right;\n",
       "    }\n",
       "</style>\n",
       "<table border=\"1\" class=\"dataframe\">\n",
       "  <thead>\n",
       "    <tr style=\"text-align: right;\">\n",
       "      <th></th>\n",
       "      <th>Age</th>\n",
       "      <th>Experience</th>\n",
       "      <th>Rank</th>\n",
       "      <th>Nationality</th>\n",
       "      <th>Go</th>\n",
       "    </tr>\n",
       "  </thead>\n",
       "  <tbody>\n",
       "    <tr>\n",
       "      <th>0</th>\n",
       "      <td>36</td>\n",
       "      <td>10</td>\n",
       "      <td>9</td>\n",
       "      <td>UK</td>\n",
       "      <td>NO</td>\n",
       "    </tr>\n",
       "    <tr>\n",
       "      <th>1</th>\n",
       "      <td>42</td>\n",
       "      <td>12</td>\n",
       "      <td>4</td>\n",
       "      <td>USA</td>\n",
       "      <td>NO</td>\n",
       "    </tr>\n",
       "    <tr>\n",
       "      <th>2</th>\n",
       "      <td>23</td>\n",
       "      <td>4</td>\n",
       "      <td>6</td>\n",
       "      <td>N</td>\n",
       "      <td>NO</td>\n",
       "    </tr>\n",
       "    <tr>\n",
       "      <th>3</th>\n",
       "      <td>52</td>\n",
       "      <td>4</td>\n",
       "      <td>4</td>\n",
       "      <td>USA</td>\n",
       "      <td>NO</td>\n",
       "    </tr>\n",
       "    <tr>\n",
       "      <th>4</th>\n",
       "      <td>43</td>\n",
       "      <td>21</td>\n",
       "      <td>8</td>\n",
       "      <td>USA</td>\n",
       "      <td>YES</td>\n",
       "    </tr>\n",
       "    <tr>\n",
       "      <th>5</th>\n",
       "      <td>44</td>\n",
       "      <td>14</td>\n",
       "      <td>5</td>\n",
       "      <td>UK</td>\n",
       "      <td>NO</td>\n",
       "    </tr>\n",
       "    <tr>\n",
       "      <th>6</th>\n",
       "      <td>66</td>\n",
       "      <td>3</td>\n",
       "      <td>7</td>\n",
       "      <td>N</td>\n",
       "      <td>YES</td>\n",
       "    </tr>\n",
       "    <tr>\n",
       "      <th>7</th>\n",
       "      <td>35</td>\n",
       "      <td>14</td>\n",
       "      <td>9</td>\n",
       "      <td>UK</td>\n",
       "      <td>YES</td>\n",
       "    </tr>\n",
       "    <tr>\n",
       "      <th>8</th>\n",
       "      <td>52</td>\n",
       "      <td>13</td>\n",
       "      <td>7</td>\n",
       "      <td>N</td>\n",
       "      <td>YES</td>\n",
       "    </tr>\n",
       "    <tr>\n",
       "      <th>9</th>\n",
       "      <td>35</td>\n",
       "      <td>5</td>\n",
       "      <td>9</td>\n",
       "      <td>N</td>\n",
       "      <td>YES</td>\n",
       "    </tr>\n",
       "  </tbody>\n",
       "</table>\n",
       "</div>"
      ],
      "text/plain": [
       "   Age  Experience  Rank Nationality   Go\n",
       "0   36          10     9          UK   NO\n",
       "1   42          12     4         USA   NO\n",
       "2   23           4     6           N   NO\n",
       "3   52           4     4         USA   NO\n",
       "4   43          21     8         USA  YES\n",
       "5   44          14     5          UK   NO\n",
       "6   66           3     7           N  YES\n",
       "7   35          14     9          UK  YES\n",
       "8   52          13     7           N  YES\n",
       "9   35           5     9           N  YES"
      ]
     },
     "execution_count": 35,
     "metadata": {},
     "output_type": "execute_result"
    }
   ],
   "source": [
    "df = pd.read_csv('/Users/iaquine/Documents/GitHub/Mineracao-de-dados/Data/shows.csv')\n",
    "df.head(10)"
   ]
  },
  {
   "cell_type": "code",
   "execution_count": 36,
   "id": "da4e9be8-73dc-472a-91dd-d168dc6b720f",
   "metadata": {},
   "outputs": [
    {
     "data": {
      "text/plain": [
       "Age             int64\n",
       "Experience      int64\n",
       "Rank            int64\n",
       "Nationality    object\n",
       "Go             object\n",
       "dtype: object"
      ]
     },
     "execution_count": 36,
     "metadata": {},
     "output_type": "execute_result"
    }
   ],
   "source": [
    "df.dtypes"
   ]
  },
  {
   "cell_type": "markdown",
   "id": "aeab65df-fe2e-4040-a7d6-fad02ae6840a",
   "metadata": {},
   "source": [
    "Para usar Árvores de Decisão, todos os dados devem ser numéricos. Vamos transformar os campos de texto em categorias numéricas usando a função **map()**."
   ]
  },
  {
   "cell_type": "code",
   "execution_count": 37,
   "id": "5a09615f-4a67-4046-a750-51f8c76253cf",
   "metadata": {},
   "outputs": [
    {
     "data": {
      "text/plain": [
       "UK     5\n",
       "USA    4\n",
       "N      4\n",
       "Name: Nationality, dtype: int64"
      ]
     },
     "execution_count": 37,
     "metadata": {},
     "output_type": "execute_result"
    }
   ],
   "source": [
    "df['Nationality'].value_counts()"
   ]
  },
  {
   "cell_type": "code",
   "execution_count": 38,
   "id": "f830cede-5369-4a17-bfe9-9ba7643706ca",
   "metadata": {},
   "outputs": [
    {
     "data": {
      "text/plain": [
       "0    5\n",
       "1    4\n",
       "2    4\n",
       "Name: Nationality, dtype: int64"
      ]
     },
     "execution_count": 38,
     "metadata": {},
     "output_type": "execute_result"
    }
   ],
   "source": [
    "df['Nationality'] = df['Nationality'].map({'UK':0, 'USA':1, 'N':2})\n",
    "df['Nationality'].value_counts()"
   ]
  },
  {
   "cell_type": "code",
   "execution_count": 39,
   "id": "54e94458-6b05-46ea-bdb3-efc1a174d338",
   "metadata": {},
   "outputs": [
    {
     "data": {
      "text/plain": [
       "YES    7\n",
       "NO     6\n",
       "Name: Go, dtype: int64"
      ]
     },
     "execution_count": 39,
     "metadata": {},
     "output_type": "execute_result"
    }
   ],
   "source": [
    "df['Go'].value_counts()"
   ]
  },
  {
   "cell_type": "code",
   "execution_count": 40,
   "id": "8dfef3ed-1865-440c-992e-007bf350bf9e",
   "metadata": {},
   "outputs": [
    {
     "data": {
      "text/plain": [
       "1    7\n",
       "0    6\n",
       "Name: Go, dtype: int64"
      ]
     },
     "execution_count": 40,
     "metadata": {},
     "output_type": "execute_result"
    }
   ],
   "source": [
    "df['Go'] = df['Go'].map({'YES':1, 'NO':0})\n",
    "df['Go'].value_counts()"
   ]
  },
  {
   "cell_type": "code",
   "execution_count": 41,
   "id": "08d6eb3f-905d-42b9-8204-f47bfb5cb065",
   "metadata": {},
   "outputs": [
    {
     "data": {
      "text/html": [
       "<div>\n",
       "<style scoped>\n",
       "    .dataframe tbody tr th:only-of-type {\n",
       "        vertical-align: middle;\n",
       "    }\n",
       "\n",
       "    .dataframe tbody tr th {\n",
       "        vertical-align: top;\n",
       "    }\n",
       "\n",
       "    .dataframe thead th {\n",
       "        text-align: right;\n",
       "    }\n",
       "</style>\n",
       "<table border=\"1\" class=\"dataframe\">\n",
       "  <thead>\n",
       "    <tr style=\"text-align: right;\">\n",
       "      <th></th>\n",
       "      <th>Age</th>\n",
       "      <th>Experience</th>\n",
       "      <th>Rank</th>\n",
       "      <th>Nationality</th>\n",
       "      <th>Go</th>\n",
       "    </tr>\n",
       "  </thead>\n",
       "  <tbody>\n",
       "    <tr>\n",
       "      <th>0</th>\n",
       "      <td>36</td>\n",
       "      <td>10</td>\n",
       "      <td>9</td>\n",
       "      <td>0</td>\n",
       "      <td>0</td>\n",
       "    </tr>\n",
       "    <tr>\n",
       "      <th>1</th>\n",
       "      <td>42</td>\n",
       "      <td>12</td>\n",
       "      <td>4</td>\n",
       "      <td>1</td>\n",
       "      <td>0</td>\n",
       "    </tr>\n",
       "    <tr>\n",
       "      <th>2</th>\n",
       "      <td>23</td>\n",
       "      <td>4</td>\n",
       "      <td>6</td>\n",
       "      <td>2</td>\n",
       "      <td>0</td>\n",
       "    </tr>\n",
       "    <tr>\n",
       "      <th>3</th>\n",
       "      <td>52</td>\n",
       "      <td>4</td>\n",
       "      <td>4</td>\n",
       "      <td>1</td>\n",
       "      <td>0</td>\n",
       "    </tr>\n",
       "    <tr>\n",
       "      <th>4</th>\n",
       "      <td>43</td>\n",
       "      <td>21</td>\n",
       "      <td>8</td>\n",
       "      <td>1</td>\n",
       "      <td>1</td>\n",
       "    </tr>\n",
       "    <tr>\n",
       "      <th>5</th>\n",
       "      <td>44</td>\n",
       "      <td>14</td>\n",
       "      <td>5</td>\n",
       "      <td>0</td>\n",
       "      <td>0</td>\n",
       "    </tr>\n",
       "    <tr>\n",
       "      <th>6</th>\n",
       "      <td>66</td>\n",
       "      <td>3</td>\n",
       "      <td>7</td>\n",
       "      <td>2</td>\n",
       "      <td>1</td>\n",
       "    </tr>\n",
       "    <tr>\n",
       "      <th>7</th>\n",
       "      <td>35</td>\n",
       "      <td>14</td>\n",
       "      <td>9</td>\n",
       "      <td>0</td>\n",
       "      <td>1</td>\n",
       "    </tr>\n",
       "    <tr>\n",
       "      <th>8</th>\n",
       "      <td>52</td>\n",
       "      <td>13</td>\n",
       "      <td>7</td>\n",
       "      <td>2</td>\n",
       "      <td>1</td>\n",
       "    </tr>\n",
       "    <tr>\n",
       "      <th>9</th>\n",
       "      <td>35</td>\n",
       "      <td>5</td>\n",
       "      <td>9</td>\n",
       "      <td>2</td>\n",
       "      <td>1</td>\n",
       "    </tr>\n",
       "  </tbody>\n",
       "</table>\n",
       "</div>"
      ],
      "text/plain": [
       "   Age  Experience  Rank  Nationality  Go\n",
       "0   36          10     9            0   0\n",
       "1   42          12     4            1   0\n",
       "2   23           4     6            2   0\n",
       "3   52           4     4            1   0\n",
       "4   43          21     8            1   1\n",
       "5   44          14     5            0   0\n",
       "6   66           3     7            2   1\n",
       "7   35          14     9            0   1\n",
       "8   52          13     7            2   1\n",
       "9   35           5     9            2   1"
      ]
     },
     "execution_count": 41,
     "metadata": {},
     "output_type": "execute_result"
    }
   ],
   "source": [
    "df.head(10)"
   ]
  },
  {
   "cell_type": "code",
   "execution_count": 44,
   "id": "aab13192-25a4-4a9b-bddc-97a978e26765",
   "metadata": {},
   "outputs": [],
   "source": [
    "#separando o dataset\n",
    "atributos_nomes = ['Age','Experience','Rank','Nationality']\n",
    "atributos = df[atributos_nomes]\n",
    "classes = df['Go']"
   ]
  },
  {
   "cell_type": "code",
   "execution_count": 47,
   "id": "ea392524-df30-4c69-8498-56f0f2a8bd8a",
   "metadata": {},
   "outputs": [],
   "source": [
    "#construindo o modelo\n",
    "arvore = DecisionTreeClassifier()\n",
    "arvore = arvore.fit(atributos, classes)"
   ]
  },
  {
   "cell_type": "code",
   "execution_count": 48,
   "id": "228679f5-1909-4f3a-a538-383089bced23",
   "metadata": {},
   "outputs": [
    {
     "data": {
      "image/png": "[encoded data removed]",
      "text/plain": [
       "<Figure size 1080x576 with 1 Axes>"
      ]
     },
     "metadata": {
      "needs_background": "light"
     },
     "output_type": "display_data"
    }
   ],
   "source": [
    "#visualizando a arvore que foi gerada\n",
    "plt.figure(figsize=(15,8))\n",
    "plot_tree(arvore,\n",
    "          filled=True,\n",
    "          rounded=True,\n",
    "          class_names=['Não', 'Sim'],\n",
    "          feature_names=atributos_nomes)\n",
    "plt.show()"
   ]
  },
  {
   "cell_type": "markdown",
   "id": "62f08274-5176-4c39-836b-7651328d03ae",
   "metadata": {},
   "source": [
    "A árvore nos mostra como, a partir dos dados de treinamento de **comediantes**, as decisões serão tomadas.\n",
    "Em cada nó, vemos as seguintes informações:\n",
    "* O nome do atributo e o seu valor para verdadeiro ou falso\n",
    "* gini: é o método usado para dividir as amostras. O valor varia entre 0.0 (todas as amostras com o mesmo resultado, então não há mais divisão) e 0.5 (o máximo de divisão, feita no meio da amostra).\n",
    "* samples: é o número de amostras que atingiu aquele nó\n",
    "* value: quantos objetos vão para os próximos ramos da árvore. Por exemplo, no nó raiz, 6 amostras vão para **não** e 7 vão para **sim** (gini = 0.497)\n",
    "\n",
    "O nó da raiz também nos mostra o atributo mais importante para a classificação, nesse caso é o atributo **Rank**, ou nota do comediante. Quando esse valor é abaixo de 6,5, a classificação será **não**. A análise segue por outros atributos até atingir os nós folha."
   ]
  },
  {
   "cell_type": "code",
   "execution_count": 49,
   "id": "f0984117-e284-4016-8c89-8e7414f27786",
   "metadata": {},
   "outputs": [
    {
     "name": "stdout",
     "output_type": "stream",
     "text": [
      "[1]\n"
     ]
    }
   ],
   "source": [
    "#Com o modelo construido vamos testar novos valores\n",
    "#Para: Age = 50, Experience = 10,Rank = 7,Nationality = 1\n",
    "print(arvore.predict([[50,10,7,1]]))"
   ]
  },
  {
   "cell_type": "code",
   "execution_count": 50,
   "id": "3132ca24-c2d2-43ad-912d-a5413f29f432",
   "metadata": {},
   "outputs": [
    {
     "name": "stdout",
     "output_type": "stream",
     "text": [
      "[0]\n"
     ]
    }
   ],
   "source": [
    "#Para: Age = 50, Experience = 10,Rank = 4,Nationality = 1\n",
    "print(arvore.predict([[50,10,4,1]]))"
   ]
  },
  {
   "cell_type": "code",
   "execution_count": null,
   "id": "753fd623-27f4-4a62-83b5-80d89f696420",
   "metadata": {},
   "outputs": [],
   "source": []
  }
 ],
 "metadata": {
  "kernelspec": {
   "display_name": "Python 3 (ipykernel)",
   "language": "python",
   "name": "python3"
  },
  "language_info": {
   "codemirror_mode": {
    "name": "ipython",
    "version": 3
   },
   "file_extension": ".py",
   "mimetype": "text/x-python",
   "name": "python",
   "nbconvert_exporter": "python",
   "pygments_lexer": "ipython3",
   "version": "3.9.7"
  }
 },
 "nbformat": 4,
 "nbformat_minor": 5
}
